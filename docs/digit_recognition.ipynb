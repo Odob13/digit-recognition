{
  "cells": [
    {
      "cell_type": "markdown",
      "metadata": {
        "id": "kcL_Rcu3z1Qs"
      },
      "source": [
        "### Código, implementación y discusión del problema de reconocimiento de dígitos"
      ]
    },
    {
      "cell_type": "markdown",
      "metadata": {
        "id": "7nNO_UwEz1Qv"
      },
      "source": [
        "Integrantes del grupo:\n",
        "* Juan David Bernal Vesga\n",
        "* Oscar David Ordóñez Bolaños\n",
        "* Juan Pablo Urrutia Parrado"
      ]
    },
    {
      "cell_type": "markdown",
      "metadata": {
        "id": "wM4Rap-Iz1Qv"
      },
      "source": [
        "A continuación, se muestra el paso a paso de la implementación de la solución, así como también la discusión de algunos resultados"
      ]
    },
    {
      "cell_type": "markdown",
      "metadata": {
        "id": "ygGX8WCAz1Qw"
      },
      "source": [
        "Para ejecutar el cuaderno, se deben cumplir los siguientes requerimientos:\n",
        "\n",
        "* Para este propósito se usa `Python 3.10.0` como la versión de ejecución.\n",
        "* Se deben tener las librerías instaladas, las cuales se encuentran en `requirements.txt`\n",
        "\n",
        "    `Nota:` para instalar las librerías, ejecutar en la terminal el siguiente comando: `pip install -r requirements.txt`"
      ]
    },
    {
      "cell_type": "markdown",
      "metadata": {
        "id": "sQN5D3HHz1Qw"
      },
      "source": [
        "#### Dataset utilizado"
      ]
    },
    {
      "cell_type": "markdown",
      "metadata": {
        "id": "fSR9tnefz1Qw"
      },
      "source": [
        "Primeramente, se importan las librerías usadas para nuestro propósito, y se definen algunas funciones que sirven como herramientas para el análisis."
      ]
    },
    {
      "cell_type": "code",
      "execution_count": 1,
      "metadata": {
        "id": "ZyrL_Z2nz1Qx"
      },
      "outputs": [],
      "source": [
        "from keras.datasets import mnist\n",
        "import matplotlib.pyplot as plt\n",
        "import keras\n",
        "import numpy as np"
      ]
    },
    {
      "cell_type": "markdown",
      "metadata": {
        "id": "SJ05_Gi4z1Qy"
      },
      "source": [
        "El dataset que se usa es el `mnist`, el cual es un dataset de 60.000 entradas para entrenar y 10.000 para validar, como se muestra a continuación:"
      ]
    },
    {
      "cell_type": "code",
      "execution_count": 2,
      "metadata": {
        "colab": {
          "base_uri": "https://localhost:8080/"
        },
        "id": "7p3CmQtfz1Qy",
        "outputId": "b02bd035-09f0-4645-98a8-7fd5d183e0d2"
      },
      "outputs": [
        {
          "output_type": "stream",
          "name": "stdout",
          "text": [
            "Downloading data from https://storage.googleapis.com/tensorflow/tf-keras-datasets/mnist.npz\n",
            "11490434/11490434 [==============================] - 1s 0us/step\n",
            "(60000, 28, 28) (10000, 28, 28)\n"
          ]
        }
      ],
      "source": [
        "# Import dataset\n",
        "(x_train, y_train), (x_test, y_test) = mnist.load_data()\n",
        "\n",
        "# Examine dataset shapes\n",
        "print(x_train.shape, x_test.shape)"
      ]
    },
    {
      "cell_type": "markdown",
      "metadata": {
        "id": "m303ShtAz1Qz"
      },
      "source": [
        "Visualizando algunos datos del dataset, vemos que son de tamaño 28x28 y están centrados, como se muestra a continuación:"
      ]
    },
    {
      "cell_type": "code",
      "execution_count": 3,
      "metadata": {
        "colab": {
          "base_uri": "https://localhost:8080/",
          "height": 277
        },
        "id": "2gX87zVXz1Qz",
        "outputId": "60d70851-0e89-4420-f919-f8b17a2117dd"
      },
      "outputs": [
        {
          "output_type": "display_data",
          "data": {
            "text/plain": [
              "<Figure size 432x288 with 4 Axes>"
            ],
            "image/png": "[encoded data removed]"
          },
          "metadata": {
            "needs_background": "light"
          }
        }
      ],
      "source": [
        "fig, ((ax1, ax2), (ax3, ax4)) = plt.subplots(2, 2)\n",
        "fig.suptitle('Dataset examples')\n",
        "test = np.random.randint(0,10000)\n",
        "ax1.imshow(x_test[test], cmap=\"binary\")\n",
        "ax1.title.set_text(y_test[test])\n",
        "ax1.axis('off')\n",
        "ax2.imshow(x_test[test+1], cmap=\"binary\")\n",
        "ax2.title.set_text(y_test[test+1])\n",
        "ax2.axis('off')\n",
        "ax3.imshow(x_test[test+2], cmap=\"binary\")\n",
        "ax3.title.set_text(y_test[test+2])\n",
        "ax3.axis('off')\n",
        "ax4.imshow(x_test[test+3], cmap=\"binary\")\n",
        "ax4.title.set_text(y_test[test+3])\n",
        "ax4.axis('off');"
      ]
    },
    {
      "cell_type": "markdown",
      "metadata": {
        "id": "i26Z5MfVz1Q0"
      },
      "source": [
        "Ahora que se ha visto la estructura de los datos, los preparamos para ser usados por el modelo."
      ]
    },
    {
      "cell_type": "markdown",
      "metadata": {
        "id": "xRZugt7Bz1Q0"
      },
      "source": [
        "#### Creación del modelo inicial"
      ]
    },
    {
      "cell_type": "markdown",
      "metadata": {
        "id": "JugDRJaLz1Q0"
      },
      "source": [
        "Para trabajar con la API de Keras, se debe trabajar con imagenes de formato (M x N x 1). Se usa el método .reshape() para realizar esta acción. Finalmente, se normalizan los datos de la imagen dividiendo cada valor de píxel por 255 (ya que los valores RGB pueden variar de 0 a 255). Además, se necesita convertir la variable de verificación de `int` a categorías, ya que se trabajan con categorias del 0 al 9. Esto se puede lograr con la función to_categorical():"
      ]
    },
    {
      "cell_type": "code",
      "execution_count": 4,
      "metadata": {
        "id": "aCHQYkW_z1Q1"
      },
      "outputs": [],
      "source": [
        "# Reshape\n",
        "x_train = x_train.reshape(x_train.shape[0], 28, 28, 1)\n",
        "x_test = x_test.reshape(x_test.shape[0], 28, 28, 1)\n",
        "\n",
        "# Parse and normalize\n",
        "x_train = x_train.astype('float32')\n",
        "x_test = x_test.astype('float32')\n",
        "x_train /= 255\n",
        "x_test /= 255\n",
        "\n",
        "# Turn Y into categorical data\n",
        "y_train = keras.utils.to_categorical(y_train, 10)\n",
        "y_test = keras.utils.to_categorical(y_test, 10)"
      ]
    },
    {
      "cell_type": "markdown",
      "metadata": {
        "id": "wqkfHyDTz1Q1"
      },
      "source": [
        "Para el modelo inicial, se considera crear:\n",
        "* 2 capas de convolución para abstraer la informacián de las imágenes, una de 32 neuronas y otra de 64 neuronas.\n",
        "* Una capa de `Dropout` con probabilidad de 25%. Estas son capas diseñadas para desestimar aleatoriamente la salida de las convoluciones, reduciendo así un posible overfit, como veremos más adelante.\n",
        "* Una capa oculta de procesamiento de 128 neuronas.\n",
        "* Una segunda capa de `Dropout` con probabilidad de 25%.\n",
        "* Una capa final con las 10 categorias esperadas.\n",
        "* ADAM com función de optimización y categorical_crossentropy como función de pérdida.\n",
        "\n",
        "Como sabemos exactamente cuales son los outputs esperados, esta solución se plantea como un modelo de aprendizaje supervisado."
      ]
    },
    {
      "cell_type": "code",
      "execution_count": 5,
      "metadata": {
        "id": "dDJK5xE7z1Q1"
      },
      "outputs": [],
      "source": [
        "from keras.models import Sequential\n",
        "from keras.layers import Dense, Dropout, Flatten, Conv2D, MaxPooling2D\n",
        "\n",
        "# Create layers as explained before\n",
        "model = Sequential()\n",
        "model.add(Conv2D(32, kernel_size=(3, 3),\n",
        "     activation='relu',\n",
        "     input_shape=(28, 28, 1)))\n",
        "\n",
        "model.add(Conv2D(64, (3, 3), activation='relu'))\n",
        "model.add(MaxPooling2D(pool_size=(2, 2)))\n",
        "\n",
        "model.add(Dropout(0.25))\n",
        "\n",
        "model.add(Flatten())\n",
        "\n",
        "model.add(Dense(128, activation='relu'))\n",
        "model.add(Dropout(0.5))\n",
        "model.add(Dense(10, activation='softmax'))\n",
        "\n",
        "# Compile the model using adam as optimizer and categorical_crossentropy as the loss function\n",
        "model.compile(loss=keras.losses.categorical_crossentropy,\n",
        "              optimizer='adam',\n",
        "              metrics=['accuracy'])"
      ]
    },
    {
      "cell_type": "markdown",
      "metadata": {
        "id": "vmX7sRgiz1Q2"
      },
      "source": [
        "#### Entrenamiento del modelo"
      ]
    },
    {
      "cell_type": "markdown",
      "metadata": {
        "id": "hyAG2z1Iz1Q2"
      },
      "source": [
        "Para entrenar el modelo, hacemos 20 corridas de 128 datos por cada corrida. Esto con el fin de ajustar los parámetros al final de cada corrida, haciendo backpropagation."
      ]
    },
    {
      "cell_type": "code",
      "execution_count": 6,
      "metadata": {
        "colab": {
          "base_uri": "https://localhost:8080/"
        },
        "id": "_cDbeXsiz1Q2",
        "outputId": "feb81902-61ad-412a-d4de-26263d581221"
      },
      "outputs": [
        {
          "output_type": "stream",
          "name": "stdout",
          "text": [
            "Epoch 1/20\n",
            "469/469 [==============================] - 18s 10ms/step - loss: 0.2418 - accuracy: 0.9261 - val_loss: 0.0511 - val_accuracy: 0.9839\n",
            "Epoch 2/20\n",
            "469/469 [==============================] - 4s 9ms/step - loss: 0.0836 - accuracy: 0.9747 - val_loss: 0.0395 - val_accuracy: 0.9876\n",
            "Epoch 3/20\n",
            "469/469 [==============================] - 4s 9ms/step - loss: 0.0643 - accuracy: 0.9809 - val_loss: 0.0312 - val_accuracy: 0.9901\n",
            "Epoch 4/20\n",
            "469/469 [==============================] - 4s 9ms/step - loss: 0.0512 - accuracy: 0.9846 - val_loss: 0.0293 - val_accuracy: 0.9898\n",
            "Epoch 5/20\n",
            "469/469 [==============================] - 5s 10ms/step - loss: 0.0442 - accuracy: 0.9863 - val_loss: 0.0283 - val_accuracy: 0.9909\n",
            "Epoch 6/20\n",
            "469/469 [==============================] - 4s 9ms/step - loss: 0.0376 - accuracy: 0.9882 - val_loss: 0.0258 - val_accuracy: 0.9914\n",
            "Epoch 7/20\n",
            "469/469 [==============================] - 5s 10ms/step - loss: 0.0346 - accuracy: 0.9888 - val_loss: 0.0264 - val_accuracy: 0.9912\n",
            "Epoch 8/20\n",
            "469/469 [==============================] - 5s 10ms/step - loss: 0.0298 - accuracy: 0.9906 - val_loss: 0.0269 - val_accuracy: 0.9907\n",
            "Epoch 9/20\n",
            "469/469 [==============================] - 4s 9ms/step - loss: 0.0290 - accuracy: 0.9907 - val_loss: 0.0268 - val_accuracy: 0.9919\n",
            "Epoch 10/20\n",
            "469/469 [==============================] - 4s 9ms/step - loss: 0.0254 - accuracy: 0.9917 - val_loss: 0.0253 - val_accuracy: 0.9926\n",
            "Epoch 11/20\n",
            "469/469 [==============================] - 4s 9ms/step - loss: 0.0225 - accuracy: 0.9925 - val_loss: 0.0265 - val_accuracy: 0.9922\n",
            "Epoch 12/20\n",
            "469/469 [==============================] - 5s 10ms/step - loss: 0.0220 - accuracy: 0.9930 - val_loss: 0.0257 - val_accuracy: 0.9922\n",
            "Epoch 13/20\n",
            "469/469 [==============================] - 4s 9ms/step - loss: 0.0198 - accuracy: 0.9933 - val_loss: 0.0263 - val_accuracy: 0.9915\n",
            "Epoch 14/20\n",
            "469/469 [==============================] - 4s 9ms/step - loss: 0.0202 - accuracy: 0.9936 - val_loss: 0.0261 - val_accuracy: 0.9925\n",
            "Epoch 15/20\n",
            "469/469 [==============================] - 5s 10ms/step - loss: 0.0191 - accuracy: 0.9936 - val_loss: 0.0307 - val_accuracy: 0.9912\n",
            "Epoch 16/20\n",
            "469/469 [==============================] - 5s 12ms/step - loss: 0.0171 - accuracy: 0.9947 - val_loss: 0.0275 - val_accuracy: 0.9922\n",
            "Epoch 17/20\n",
            "469/469 [==============================] - 5s 10ms/step - loss: 0.0163 - accuracy: 0.9947 - val_loss: 0.0295 - val_accuracy: 0.9922\n",
            "Epoch 18/20\n",
            "469/469 [==============================] - 4s 9ms/step - loss: 0.0146 - accuracy: 0.9952 - val_loss: 0.0283 - val_accuracy: 0.9929\n",
            "Epoch 19/20\n",
            "469/469 [==============================] - 4s 9ms/step - loss: 0.0160 - accuracy: 0.9946 - val_loss: 0.0326 - val_accuracy: 0.9925\n",
            "Epoch 20/20\n",
            "469/469 [==============================] - 4s 9ms/step - loss: 0.0137 - accuracy: 0.9954 - val_loss: 0.0293 - val_accuracy: 0.9931\n",
            "Test loss: 0.029333407059311867\n",
            "Test accuracy: 0.9930999875068665\n"
          ]
        }
      ],
      "source": [
        "batch_size = 128\n",
        "epochs = 20\n",
        "\n",
        "og_model_hist = model.fit(x_train, y_train,\n",
        "          batch_size=batch_size,\n",
        "          epochs=epochs,\n",
        "          verbose=1,\n",
        "          validation_data=(x_test, y_test))\n",
        "score = model.evaluate(x_test, y_test, verbose=0)\n",
        "print('Test loss:', score[0])\n",
        "print('Test accuracy:', score[1])\n",
        "\n",
        "model.save(\"src/models/og_model.h5\")"
      ]
    },
    {
      "cell_type": "code",
      "execution_count": 7,
      "metadata": {
        "id": "ZyfB2yZPz1Q2"
      },
      "outputs": [],
      "source": [
        "original_model = keras.models.load_model('src/models/og_model.h5')"
      ]
    },
    {
      "cell_type": "markdown",
      "metadata": {
        "id": "YweLDEDDz1Q2"
      },
      "source": [
        "A continuación, una prueba sobre un dato aislado:"
      ]
    },
    {
      "cell_type": "code",
      "execution_count": 19,
      "metadata": {
        "colab": {
          "base_uri": "https://localhost:8080/",
          "height": 265
        },
        "id": "t58AlFUsz1Q2",
        "outputId": "787f8762-aa69-4d16-c5f0-c1bb95c3b670"
      },
      "outputs": [
        {
          "output_type": "display_data",
          "data": {
            "text/plain": [
              "<Figure size 432x288 with 1 Axes>"
            ],
            "image/png": "[encoded data removed]"
          },
          "metadata": {
            "needs_background": "light"
          }
        }
      ],
      "source": [
        "import imageio\n",
        "\n",
        "# Import and process the image\n",
        "im = imageio.imread(\"img/2.png\")\n",
        "plt.imshow(im, cmap = plt.get_cmap('gray'))\n",
        "plt.show()\n",
        "gray = np.dot(im[...,:3], [0.299, 0.587, 0.114])\n",
        "gray = gray.reshape(1, 28, 28, 1)\n",
        "gray /= 255"
      ]
    },
    {
      "cell_type": "code",
      "execution_count": 20,
      "metadata": {
        "colab": {
          "base_uri": "https://localhost:8080/"
        },
        "id": "nMx660-iz1Q3",
        "outputId": "d5104eba-9881-496d-e290-f0f8eb414f19"
      },
      "outputs": [
        {
          "output_type": "stream",
          "name": "stdout",
          "text": [
            "1/1 [==============================] - 0s 17ms/step\n",
            "2\n"
          ]
        }
      ],
      "source": [
        "# Use the model to predict\n",
        "prediction = model.predict(gray)\n",
        "print(prediction.argmax())"
      ]
    },
    {
      "cell_type": "markdown",
      "metadata": {
        "id": "2MJ9h98Hz1Q3"
      },
      "source": [
        "Como vemos, el modelo predice correctamente sobre la imagen suministrada."
      ]
    },
    {
      "cell_type": "markdown",
      "metadata": {
        "id": "vqZDUqIVz1Q3"
      },
      "source": [
        "#### Problemas de Overfitting"
      ]
    },
    {
      "cell_type": "markdown",
      "metadata": {
        "id": "10XzuySIz1Q3"
      },
      "source": [
        "Haciendo un análisis sobre el porcentaje de error del modelo anterior, se puede ver lo siguiente:"
      ]
    },
    {
      "cell_type": "code",
      "execution_count": 11,
      "metadata": {
        "id": "6qe3b10Ez1Q3"
      },
      "outputs": [],
      "source": [
        "# Aux. function to graph results\n",
        "def eval_metric(model, history, metric_name, name):\n",
        "    '''\n",
        "    Function to evaluate a trained model on a chosen metric. \n",
        "    Training and validation metric are plotted in a\n",
        "    line chart for each epoch.\n",
        "    \n",
        "    Parameters:\n",
        "        history : model training history\n",
        "        metric_name : loss or accuracy\n",
        "    Output:\n",
        "        line chart with epochs of x-axis and metric on\n",
        "        y-axis\n",
        "    '''\n",
        "    metric = history.history[metric_name]\n",
        "    val_metric = history.history['val_' + metric_name]\n",
        "    e = range(1, 20 + 1)\n",
        "    plt.plot(e, metric, label='Entrenamiento ' + metric_name)\n",
        "    plt.plot(e, val_metric, label='Validación ' + metric_name)\n",
        "    plt.xlabel('Epoch')\n",
        "    plt.ylabel(metric_name)\n",
        "    plt.title('Comparación ' + metric_name + ' de entrenamiento y validación para ' + name)\n",
        "    plt.legend()\n",
        "    plt.show()"
      ]
    },
    {
      "cell_type": "code",
      "execution_count": 12,
      "metadata": {
        "colab": {
          "base_uri": "https://localhost:8080/",
          "height": 295
        },
        "id": "MiJ8wNA2z1Q4",
        "outputId": "28d6a0d2-d84a-4af0-b5d5-fbf6325f6306"
      },
      "outputs": [
        {
          "output_type": "display_data",
          "data": {
            "text/plain": [
              "<Figure size 432x288 with 1 Axes>"
            ],
            "image/png": "[encoded data removed]"
          },
          "metadata": {
            "needs_background": "light"
          }
        }
      ],
      "source": [
        "eval_metric(original_model, og_model_hist, 'loss', 'Original')"
      ]
    },
    {
      "cell_type": "markdown",
      "metadata": {
        "id": "Fl62Pfasz1Q4"
      },
      "source": [
        "El modelo original presenta sintomas de 'overfitting'. Esto es, cuando el modelo queda sobre-entrenado sobre un dataset, tanto que es incapaz de reconocer digitos de manera generalizada. Esto se puede detectar encontrando que a medida que se entrena el modelo, el loss (porcentaje de error) sobre el dataset de entreno baja, mientras que el loss sobre el dataset de validación se mantiene o sube. Para la primera implementación del modelo, se implementan 'Dropout layers'; sin embargo, parece no ser suficiente para resolver el problema. Aunque no es muy grave, se puede ver como el loss sobre el set de validación deja de disminuir en el octavo entrenamiento, y luego sube. Para atacar este problema, se plantean algunas estrategias:"
      ]
    },
    {
      "cell_type": "markdown",
      "metadata": {
        "id": "aXGhYir3z1Q4"
      },
      "source": [
        "##### 1. Reducir el número de neuronas de la capa de segunda convolucion de 64 a 32, y de la capa oculta de 128 a 64.\n",
        "Asi se reduce la capacidad de la red y se obliga a aprender los patrones que importan o que minimizan la pérdida."
      ]
    },
    {
      "cell_type": "code",
      "execution_count": 13,
      "metadata": {
        "id": "MIGV2B2Hz1Q4"
      },
      "outputs": [],
      "source": [
        "# Create layers as explained before\n",
        "model_1 = Sequential()\n",
        "model_1.add(Conv2D(32, kernel_size=(3, 3),\n",
        "     activation='relu',\n",
        "     input_shape=(28, 28, 1)))\n",
        "\n",
        "model_1.add(Conv2D(32, (3, 3), activation='relu'))       ## 64 -> 32\n",
        "model_1.add(MaxPooling2D(pool_size=(2, 2)))\n",
        "\n",
        "model_1.add(Dropout(0.25))\n",
        "\n",
        "model_1.add(Flatten())\n",
        "\n",
        "model_1.add(Dense(64, activation='relu'))               ## 128 ->64\n",
        "model_1.add(Dropout(0.5))\n",
        "model_1.add(Dense(10, activation='softmax'))\n",
        "\n",
        "# Compile the model_1 using adam as optimizer and categorical_crossentropy as the loss function\n",
        "model_1.compile(loss=keras.losses.categorical_crossentropy,\n",
        "              optimizer='adam',\n",
        "              metrics=['accuracy'])"
      ]
    },
    {
      "cell_type": "code",
      "execution_count": 14,
      "metadata": {
        "colab": {
          "base_uri": "https://localhost:8080/",
          "height": 1000
        },
        "id": "ktbbWfAOz1Q4",
        "outputId": "3a11248d-bbae-47ab-b339-0118b8199b61"
      },
      "outputs": [
        {
          "output_type": "stream",
          "name": "stdout",
          "text": [
            "Epoch 1/20\n",
            "469/469 [==============================] - 4s 8ms/step - loss: 0.3600 - accuracy: 0.8884 - val_loss: 0.0731 - val_accuracy: 0.9745\n",
            "Epoch 2/20\n",
            "469/469 [==============================] - 3s 7ms/step - loss: 0.1416 - accuracy: 0.9584 - val_loss: 0.0464 - val_accuracy: 0.9854\n",
            "Epoch 3/20\n",
            "469/469 [==============================] - 3s 7ms/step - loss: 0.1083 - accuracy: 0.9680 - val_loss: 0.0388 - val_accuracy: 0.9867\n",
            "Epoch 4/20\n",
            "469/469 [==============================] - 3s 7ms/step - loss: 0.0911 - accuracy: 0.9725 - val_loss: 0.0361 - val_accuracy: 0.9885\n",
            "Epoch 5/20\n",
            "469/469 [==============================] - 3s 7ms/step - loss: 0.0816 - accuracy: 0.9760 - val_loss: 0.0329 - val_accuracy: 0.9894\n",
            "Epoch 6/20\n",
            "469/469 [==============================] - 3s 7ms/step - loss: 0.0735 - accuracy: 0.9779 - val_loss: 0.0320 - val_accuracy: 0.9893\n",
            "Epoch 7/20\n",
            "469/469 [==============================] - 3s 7ms/step - loss: 0.0662 - accuracy: 0.9795 - val_loss: 0.0300 - val_accuracy: 0.9897\n",
            "Epoch 8/20\n",
            "469/469 [==============================] - 3s 7ms/step - loss: 0.0614 - accuracy: 0.9807 - val_loss: 0.0296 - val_accuracy: 0.9899\n",
            "Epoch 9/20\n",
            "469/469 [==============================] - 3s 7ms/step - loss: 0.0569 - accuracy: 0.9825 - val_loss: 0.0283 - val_accuracy: 0.9904\n",
            "Epoch 10/20\n",
            "469/469 [==============================] - 3s 7ms/step - loss: 0.0525 - accuracy: 0.9838 - val_loss: 0.0287 - val_accuracy: 0.9910\n",
            "Epoch 11/20\n",
            "469/469 [==============================] - 3s 7ms/step - loss: 0.0514 - accuracy: 0.9843 - val_loss: 0.0286 - val_accuracy: 0.9916\n",
            "Epoch 12/20\n",
            "469/469 [==============================] - 3s 7ms/step - loss: 0.0487 - accuracy: 0.9849 - val_loss: 0.0336 - val_accuracy: 0.9897\n",
            "Epoch 13/20\n",
            "469/469 [==============================] - 3s 7ms/step - loss: 0.0460 - accuracy: 0.9851 - val_loss: 0.0287 - val_accuracy: 0.9914\n",
            "Epoch 14/20\n",
            "469/469 [==============================] - 3s 7ms/step - loss: 0.0445 - accuracy: 0.9852 - val_loss: 0.0290 - val_accuracy: 0.9916\n",
            "Epoch 15/20\n",
            "469/469 [==============================] - 3s 7ms/step - loss: 0.0416 - accuracy: 0.9866 - val_loss: 0.0319 - val_accuracy: 0.9907\n",
            "Epoch 16/20\n",
            "469/469 [==============================] - 3s 7ms/step - loss: 0.0397 - accuracy: 0.9871 - val_loss: 0.0287 - val_accuracy: 0.9925\n",
            "Epoch 17/20\n",
            "469/469 [==============================] - 3s 7ms/step - loss: 0.0388 - accuracy: 0.9875 - val_loss: 0.0298 - val_accuracy: 0.9922\n",
            "Epoch 18/20\n",
            "469/469 [==============================] - 3s 7ms/step - loss: 0.0353 - accuracy: 0.9880 - val_loss: 0.0259 - val_accuracy: 0.9918\n",
            "Epoch 19/20\n",
            "469/469 [==============================] - 3s 7ms/step - loss: 0.0341 - accuracy: 0.9884 - val_loss: 0.0263 - val_accuracy: 0.9925\n",
            "Epoch 20/20\n",
            "469/469 [==============================] - 3s 7ms/step - loss: 0.0362 - accuracy: 0.9881 - val_loss: 0.0317 - val_accuracy: 0.9903\n",
            "Test loss: 0.031723055988550186\n",
            "Test accuracy: 0.9902999997138977\n"
          ]
        },
        {
          "output_type": "display_data",
          "data": {
            "text/plain": [
              "<Figure size 432x288 with 1 Axes>"
            ],
            "image/png": "[encoded data removed]"
          },
          "metadata": {
            "needs_background": "light"
          }
        }
      ],
      "source": [
        "batch_size = 128\n",
        "epochs = 20\n",
        "\n",
        "small_model_hist = model_1.fit(x_train, y_train,\n",
        "          batch_size=batch_size,\n",
        "          epochs=epochs,\n",
        "          verbose=1,\n",
        "          validation_data=(x_test, y_test))\n",
        "score = model_1.evaluate(x_test, y_test, verbose=0)\n",
        "print('Test loss:', score[0])\n",
        "print('Test accuracy:', score[1])\n",
        "\n",
        "model_1.save(\"src/models/small_model.h5\")\n",
        "\n",
        "eval_metric(model_1, small_model_hist, 'loss', 'Original')"
      ]
    },
    {
      "cell_type": "markdown",
      "metadata": {
        "id": "8igWTJtjz1Q4"
      },
      "source": [
        "##### 2. Aplicar regularización a la segunda capa de convolución.\n",
        "Esto añade un coste a la función de pérdida del modelo para los parámetros grandes. Como resultado, se obtiene un modelo más simple que se verá obligado a aprender sólo los patrones relevantes de los datos de entrenamiento. La regularización L2 añade un coste con respecto al valor cuadrado de los parámetros. Esto da lugar a pesos más pequeños para cada neurona."
      ]
    },
    {
      "cell_type": "code",
      "execution_count": 15,
      "metadata": {
        "id": "W6046DRkz1Q4"
      },
      "outputs": [],
      "source": [
        "# Create layers as explained before\n",
        "model_2 = Sequential()\n",
        "model_2.add(Conv2D(32, kernel_size=(3, 3),\n",
        "     activation='relu',\n",
        "     input_shape=(28, 28, 1), kernel_regularizer=keras.regularizers.l2(0.01), bias_regularizer=keras.regularizers.l2(0.01)))      ## Add regularizers\n",
        "\n",
        "model_2.add(Conv2D(64, (3, 3), activation='relu'))\n",
        "model_2.add(MaxPooling2D(pool_size=(2, 2)))\n",
        "\n",
        "model_2.add(Dropout(0.25))\n",
        "\n",
        "model_2.add(Flatten())\n",
        "\n",
        "model_2.add(Dense(128, activation='relu'))\n",
        "model_2.add(Dropout(0.5))\n",
        "model_2.add(Dense(10, activation='softmax'))\n",
        "\n",
        "# Compile the model_2 using adam as optimizer and categorical_crossentropy as the loss function\n",
        "model_2.compile(loss=keras.losses.categorical_crossentropy,\n",
        "              optimizer='adam',\n",
        "              metrics=['accuracy'])"
      ]
    },
    {
      "cell_type": "code",
      "execution_count": 16,
      "metadata": {
        "colab": {
          "base_uri": "https://localhost:8080/",
          "height": 1000
        },
        "id": "Vg4qWlgfz1Q5",
        "outputId": "55aa2354-6f9f-445f-ac1c-7706bcb6a0f5"
      },
      "outputs": [
        {
          "output_type": "stream",
          "name": "stdout",
          "text": [
            "Epoch 1/20\n",
            "469/469 [==============================] - 5s 10ms/step - loss: 0.2832 - accuracy: 0.9190 - val_loss: 0.0735 - val_accuracy: 0.9829\n",
            "Epoch 2/20\n",
            "469/469 [==============================] - 5s 10ms/step - loss: 0.1113 - accuracy: 0.9717 - val_loss: 0.0521 - val_accuracy: 0.9879\n",
            "Epoch 3/20\n",
            "469/469 [==============================] - 4s 10ms/step - loss: 0.0833 - accuracy: 0.9779 - val_loss: 0.0481 - val_accuracy: 0.9881\n",
            "Epoch 4/20\n",
            "469/469 [==============================] - 4s 10ms/step - loss: 0.0702 - accuracy: 0.9811 - val_loss: 0.0403 - val_accuracy: 0.9900\n",
            "Epoch 5/20\n",
            "469/469 [==============================] - 6s 12ms/step - loss: 0.0614 - accuracy: 0.9838 - val_loss: 0.0366 - val_accuracy: 0.9897\n",
            "Epoch 6/20\n",
            "469/469 [==============================] - 7s 14ms/step - loss: 0.0563 - accuracy: 0.9847 - val_loss: 0.0381 - val_accuracy: 0.9893\n",
            "Epoch 7/20\n",
            "469/469 [==============================] - 7s 14ms/step - loss: 0.0508 - accuracy: 0.9862 - val_loss: 0.0356 - val_accuracy: 0.9903\n",
            "Epoch 8/20\n",
            "469/469 [==============================] - 6s 13ms/step - loss: 0.0436 - accuracy: 0.9875 - val_loss: 0.0343 - val_accuracy: 0.9908\n",
            "Epoch 9/20\n",
            "469/469 [==============================] - 4s 9ms/step - loss: 0.0405 - accuracy: 0.9893 - val_loss: 0.0344 - val_accuracy: 0.9905\n",
            "Epoch 10/20\n",
            "469/469 [==============================] - 4s 9ms/step - loss: 0.0374 - accuracy: 0.9896 - val_loss: 0.0331 - val_accuracy: 0.9921\n",
            "Epoch 11/20\n",
            "469/469 [==============================] - 4s 9ms/step - loss: 0.0345 - accuracy: 0.9904 - val_loss: 0.0320 - val_accuracy: 0.9923\n",
            "Epoch 12/20\n",
            "469/469 [==============================] - 5s 10ms/step - loss: 0.0349 - accuracy: 0.9899 - val_loss: 0.0346 - val_accuracy: 0.9904\n",
            "Epoch 13/20\n",
            "469/469 [==============================] - 4s 9ms/step - loss: 0.0311 - accuracy: 0.9912 - val_loss: 0.0312 - val_accuracy: 0.9925\n",
            "Epoch 14/20\n",
            "469/469 [==============================] - 4s 9ms/step - loss: 0.0299 - accuracy: 0.9914 - val_loss: 0.0330 - val_accuracy: 0.9916\n",
            "Epoch 15/20\n",
            "469/469 [==============================] - 4s 9ms/step - loss: 0.0273 - accuracy: 0.9925 - val_loss: 0.0332 - val_accuracy: 0.9919\n",
            "Epoch 16/20\n",
            "469/469 [==============================] - 4s 9ms/step - loss: 0.0261 - accuracy: 0.9928 - val_loss: 0.0328 - val_accuracy: 0.9912\n",
            "Epoch 17/20\n",
            "469/469 [==============================] - 5s 10ms/step - loss: 0.0241 - accuracy: 0.9930 - val_loss: 0.0347 - val_accuracy: 0.9926\n",
            "Epoch 18/20\n",
            "469/469 [==============================] - 4s 9ms/step - loss: 0.0248 - accuracy: 0.9931 - val_loss: 0.0330 - val_accuracy: 0.9914\n",
            "Epoch 19/20\n",
            "469/469 [==============================] - 5s 10ms/step - loss: 0.0232 - accuracy: 0.9934 - val_loss: 0.0317 - val_accuracy: 0.9929\n",
            "Epoch 20/20\n",
            "469/469 [==============================] - 6s 12ms/step - loss: 0.0215 - accuracy: 0.9938 - val_loss: 0.0390 - val_accuracy: 0.9914\n",
            "Test loss: 0.03898705914616585\n",
            "Test accuracy: 0.9914000034332275\n"
          ]
        },
        {
          "output_type": "display_data",
          "data": {
            "text/plain": [
              "<Figure size 432x288 with 1 Axes>"
            ],
            "image/png": "[encoded data removed]"
          },
          "metadata": {
            "needs_background": "light"
          }
        }
      ],
      "source": [
        "batch_size = 128\n",
        "epochs = 20\n",
        "\n",
        "reg_model_hist = model_2.fit(x_train, y_train,\n",
        "          batch_size=batch_size,\n",
        "          epochs=epochs,\n",
        "          verbose=1,\n",
        "          validation_data=(x_test, y_test))\n",
        "score = model_2.evaluate(x_test, y_test, verbose=0)\n",
        "print('Test loss:', score[0])\n",
        "print('Test accuracy:', score[1])\n",
        "\n",
        "model_2.save(\"src/models/conv_reg_model.h5\")\n",
        "\n",
        "eval_metric(model_2, reg_model_hist, 'loss', 'Original')"
      ]
    },
    {
      "cell_type": "markdown",
      "metadata": {
        "id": "X-k_O49mz1Q5"
      },
      "source": [
        "Al combinar las anteriores dos soluciones, se obtiene la solución final:"
      ]
    },
    {
      "cell_type": "code",
      "execution_count": 17,
      "metadata": {
        "id": "Bk00wuw7z1Q5"
      },
      "outputs": [],
      "source": [
        "# Create layers as explained before\n",
        "model_3 = Sequential()\n",
        "model_3.add(Conv2D(32, kernel_size=(3, 3),\n",
        "     activation='relu',\n",
        "     input_shape=(28, 28, 1), kernel_regularizer=keras.regularizers.l2(0.01), bias_regularizer=keras.regularizers.l2(0.01)))      ## Add regularizers\n",
        "\n",
        "model_3.add(Conv2D(32, (3, 3), activation='relu'))          ## 64 -> 32\n",
        "model_3.add(MaxPooling2D(pool_size=(2, 2)))\n",
        "\n",
        "model_3.add(Dropout(0.25))\n",
        "\n",
        "model_3.add(Flatten())\n",
        "\n",
        "model_3.add(Dense(64, activation='relu'))                   ## 128 -> 64\n",
        "model_3.add(Dropout(0.5))\n",
        "model_3.add(Dense(10, activation='softmax'))\n",
        "\n",
        "# Compile the model_3 using adam as optimizer and categorical_crossentropy as the loss function\n",
        "model_3.compile(loss=keras.losses.categorical_crossentropy,\n",
        "              optimizer='adam',\n",
        "              metrics=['accuracy'])"
      ]
    },
    {
      "cell_type": "code",
      "execution_count": 18,
      "metadata": {
        "colab": {
          "base_uri": "https://localhost:8080/",
          "height": 1000
        },
        "id": "aIvzIhZXz1Q5",
        "outputId": "48b57d22-013f-470d-9d5f-c249f42b48db"
      },
      "outputs": [
        {
          "output_type": "stream",
          "name": "stdout",
          "text": [
            "Epoch 1/20\n",
            "469/469 [==============================] - 4s 8ms/step - loss: 0.4071 - accuracy: 0.8810 - val_loss: 0.1034 - val_accuracy: 0.9716\n",
            "Epoch 2/20\n",
            "469/469 [==============================] - 3s 7ms/step - loss: 0.1783 - accuracy: 0.9521 - val_loss: 0.0714 - val_accuracy: 0.9822\n",
            "Epoch 3/20\n",
            "469/469 [==============================] - 4s 8ms/step - loss: 0.1402 - accuracy: 0.9621 - val_loss: 0.0569 - val_accuracy: 0.9849\n",
            "Epoch 4/20\n",
            "469/469 [==============================] - 4s 8ms/step - loss: 0.1206 - accuracy: 0.9678 - val_loss: 0.0537 - val_accuracy: 0.9857\n",
            "Epoch 5/20\n",
            "469/469 [==============================] - 3s 7ms/step - loss: 0.1065 - accuracy: 0.9711 - val_loss: 0.0474 - val_accuracy: 0.9875\n",
            "Epoch 6/20\n",
            "469/469 [==============================] - 3s 7ms/step - loss: 0.0964 - accuracy: 0.9744 - val_loss: 0.0435 - val_accuracy: 0.9886\n",
            "Epoch 7/20\n",
            "469/469 [==============================] - 3s 7ms/step - loss: 0.0896 - accuracy: 0.9754 - val_loss: 0.0432 - val_accuracy: 0.9888\n",
            "Epoch 8/20\n",
            "469/469 [==============================] - 3s 7ms/step - loss: 0.0835 - accuracy: 0.9777 - val_loss: 0.0439 - val_accuracy: 0.9887\n",
            "Epoch 9/20\n",
            "469/469 [==============================] - 3s 7ms/step - loss: 0.0821 - accuracy: 0.9770 - val_loss: 0.0417 - val_accuracy: 0.9890\n",
            "Epoch 10/20\n",
            "469/469 [==============================] - 4s 9ms/step - loss: 0.0746 - accuracy: 0.9786 - val_loss: 0.0433 - val_accuracy: 0.9883\n",
            "Epoch 11/20\n",
            "469/469 [==============================] - 3s 7ms/step - loss: 0.0729 - accuracy: 0.9794 - val_loss: 0.0394 - val_accuracy: 0.9900\n",
            "Epoch 12/20\n",
            "469/469 [==============================] - 3s 7ms/step - loss: 0.0687 - accuracy: 0.9810 - val_loss: 0.0451 - val_accuracy: 0.9894\n",
            "Epoch 13/20\n",
            "469/469 [==============================] - 3s 7ms/step - loss: 0.0679 - accuracy: 0.9810 - val_loss: 0.0367 - val_accuracy: 0.9899\n",
            "Epoch 14/20\n",
            "469/469 [==============================] - 3s 7ms/step - loss: 0.0649 - accuracy: 0.9818 - val_loss: 0.0369 - val_accuracy: 0.9896\n",
            "Epoch 15/20\n",
            "469/469 [==============================] - 3s 7ms/step - loss: 0.0622 - accuracy: 0.9823 - val_loss: 0.0361 - val_accuracy: 0.9900\n",
            "Epoch 16/20\n",
            "469/469 [==============================] - 3s 7ms/step - loss: 0.0598 - accuracy: 0.9830 - val_loss: 0.0355 - val_accuracy: 0.9909\n",
            "Epoch 17/20\n",
            "469/469 [==============================] - 3s 7ms/step - loss: 0.0579 - accuracy: 0.9830 - val_loss: 0.0366 - val_accuracy: 0.9899\n",
            "Epoch 18/20\n",
            "469/469 [==============================] - 3s 7ms/step - loss: 0.0550 - accuracy: 0.9839 - val_loss: 0.0341 - val_accuracy: 0.9914\n",
            "Epoch 19/20\n",
            "469/469 [==============================] - 3s 7ms/step - loss: 0.0543 - accuracy: 0.9845 - val_loss: 0.0352 - val_accuracy: 0.9904\n",
            "Epoch 20/20\n",
            "469/469 [==============================] - 3s 7ms/step - loss: 0.0554 - accuracy: 0.9842 - val_loss: 0.0329 - val_accuracy: 0.9914\n",
            "Test loss: 0.032890982925891876\n",
            "Test accuracy: 0.9914000034332275\n"
          ]
        },
        {
          "output_type": "display_data",
          "data": {
            "text/plain": [
              "<Figure size 432x288 with 1 Axes>"
            ],
            "image/png": "[encoded data removed]"
          },
          "metadata": {
            "needs_background": "light"
          }
        }
      ],
      "source": [
        "batch_size = 128\n",
        "epochs = 20\n",
        "\n",
        "small_conv_reg_hist = model_3.fit(x_train, y_train,\n",
        "          batch_size=batch_size,\n",
        "          epochs=epochs,\n",
        "          verbose=1,\n",
        "          validation_data=(x_test, y_test))\n",
        "score = model_3.evaluate(x_test, y_test, verbose=0)\n",
        "print('Test loss:', score[0])\n",
        "print('Test accuracy:', score[1])\n",
        "\n",
        "model_3.save(\"src/models/small_conv_reg_model.h5\")\n",
        "\n",
        "eval_metric(model_3, small_conv_reg_hist, 'loss', 'Original')"
      ]
    },
    {
      "cell_type": "markdown",
      "metadata": {
        "id": "Q3_6xZ6Wz1Q5"
      },
      "source": [
        "Vemos entonces que el modelo no presenta 'overfitting' y está listo para ser usado por el usuario final."
      ]
    },
    {
      "cell_type": "markdown",
      "metadata": {
        "id": "R8XBburdz1Q5"
      },
      "source": []
    }
  ],
  "metadata": {
    "kernelspec": {
      "display_name": "Python 3.10.0 ('.dr-venv': venv)",
      "language": "python",
      "name": "python3"
    },
    "language_info": {
      "codemirror_mode": {
        "name": "ipython",
        "version": 3
      },
      "file_extension": ".py",
      "mimetype": "text/x-python",
      "name": "python",
      "nbconvert_exporter": "python",
      "pygments_lexer": "ipython3",
      "version": "3.10.0"
    },
    "orig_nbformat": 4,
    "vscode": {
      "interpreter": {
        "hash": "dad4b69c0e3e0b4af1961ebe45d2ca8d6f10b6118d0845a53e4e3216c649bb29"
      }
    },
    "colab": {
      "provenance": []
    },
    "accelerator": "GPU",
    "gpuClass": "standard"
  },
  "nbformat": 4,
  "nbformat_minor": 0
}