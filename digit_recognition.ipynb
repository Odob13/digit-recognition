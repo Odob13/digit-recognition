{
 "cells": [
  {
   "cell_type": "code",
   "execution_count": 14,
   "metadata": {},
   "outputs": [],
   "source": [
    "from keras.datasets import mnist\n",
    "import matplotlib.pyplot as plt\n",
    "import keras\n",
    "import numpy as np"
   ]
  },
  {
   "cell_type": "code",
   "execution_count": 102,
   "metadata": {},
   "outputs": [],
   "source": [
    "(x_train, y_train), (x_test, y_test) = mnist.load_data()"
   ]
  },
  {
   "cell_type": "markdown",
   "metadata": {},
   "source": [
    "60K observaciones, img de tamaño 28x28"
   ]
  },
  {
   "cell_type": "code",
   "execution_count": 4,
   "metadata": {},
   "outputs": [
    {
     "data": {
      "text/plain": [
       "(60000, 28, 28)"
      ]
     },
     "execution_count": 4,
     "metadata": {},
     "output_type": "execute_result"
    }
   ],
   "source": [
    "x_train.shape"
   ]
  },
  {
   "cell_type": "code",
   "execution_count": 103,
   "metadata": {},
   "outputs": [],
   "source": [
    "mean_px = x_train.mean().astype(np.float32)\n",
    "std_px = x_train.std().astype(np.float32)\n",
    "x_train = (x_train - mean_px)/(std_px)"
   ]
  },
  {
   "cell_type": "code",
   "execution_count": 104,
   "metadata": {},
   "outputs": [
    {
     "data": {
      "text/plain": [
       "<matplotlib.image.AxesImage at 0x22ef1b64970>"
      ]
     },
     "execution_count": 104,
     "metadata": {},
     "output_type": "execute_result"
    },
    {
     "data": {
      "image/png": "[encoded data removed]",
      "text/plain": [
       "<Figure size 640x480 with 1 Axes>"
      ]
     },
     "metadata": {},
     "output_type": "display_data"
    }
   ],
   "source": [
    "plt.imshow(x_train[2], cmap=\"Greys\")"
   ]
  },
  {
   "cell_type": "code",
   "execution_count": 106,
   "metadata": {},
   "outputs": [
    {
     "data": {
      "image/png": "[encoded data removed]",
      "text/plain": [
       "<Figure size 640x480 with 4 Axes>"
      ]
     },
     "metadata": {},
     "output_type": "display_data"
    }
   ],
   "source": [
    "fig, ((ax1, ax2), (ax3, ax4)) = plt.subplots(2, 2)\n",
    "fig.suptitle('Dataset examples')\n",
    "test = np.random.randint(0,10000)\n",
    "ax1.imshow(x_test[test], cmap=\"binary\")\n",
    "ax1.title.set_text(y_test[test])\n",
    "ax1.axis('off')\n",
    "ax2.imshow(x_test[test+1], cmap=\"binary\")\n",
    "ax2.title.set_text(y_test[test+1])\n",
    "ax2.axis('off')\n",
    "ax3.imshow(x_test[test+2], cmap=\"binary\")\n",
    "ax3.title.set_text(y_test[test+2])\n",
    "ax3.axis('off')\n",
    "ax4.imshow(x_test[test+3], cmap=\"binary\")\n",
    "ax4.title.set_text(y_test[test+3])\n",
    "ax4.axis('off');"
   ]
  },
  {
   "cell_type": "code",
   "execution_count": 107,
   "metadata": {},
   "outputs": [],
   "source": [
    "x_train = x_train.reshape(x_train.shape[0], 28, 28, 1)\n",
    "x_test = x_test.reshape(x_test.shape[0], 28, 28, 1)\n",
    "\n",
    "x_train = x_train.astype('float32')\n",
    "x_test = x_test.astype('float32')\n",
    "x_train /= 255\n",
    "x_test /= 255"
   ]
  },
  {
   "cell_type": "code",
   "execution_count": 108,
   "metadata": {},
   "outputs": [],
   "source": [
    "y_train = keras.utils.to_categorical(y_train, 10)\n",
    "y_test = keras.utils.to_categorical(y_test, 10)"
   ]
  },
  {
   "cell_type": "code",
   "execution_count": 109,
   "metadata": {},
   "outputs": [],
   "source": [
    "from keras.models import Sequential\n",
    "from keras.layers import Dense, Dropout, Flatten, Conv2D, MaxPooling2D\n",
    "\n",
    "model = Sequential()\n",
    "model.add(Conv2D(32, kernel_size=(3, 3),\n",
    "     activation='relu',\n",
    "     input_shape=(28, 28, 1)))\n",
    "\n",
    "model.add(Conv2D(64, (3, 3), activation='relu'))\n",
    "model.add(MaxPooling2D(pool_size=(2, 2)))\n",
    "\n",
    "model.add(Dropout(0.25))\n",
    "\n",
    "model.add(Flatten())\n",
    "\n",
    "model.add(Dense(128, activation='relu'))\n",
    "model.add(Dropout(0.5))\n",
    "model.add(Dense(10, activation='softmax'))"
   ]
  },
  {
   "cell_type": "code",
   "execution_count": 110,
   "metadata": {},
   "outputs": [],
   "source": [
    "model.compile(loss=keras.losses.categorical_crossentropy,\n",
    "              optimizer='adam',\n",
    "              metrics=['accuracy'])"
   ]
  },
  {
   "cell_type": "code",
   "execution_count": 111,
   "metadata": {},
   "outputs": [
    {
     "name": "stdout",
     "output_type": "stream",
     "text": [
      "Epoch 1/10\n",
      "469/469 [==============================] - 40s 85ms/step - loss: 0.6873 - accuracy: 0.7817 - val_loss: 8.5285 - val_accuracy: 0.9063\n",
      "Epoch 2/10\n",
      "469/469 [==============================] - 39s 84ms/step - loss: 0.3600 - accuracy: 0.8906 - val_loss: 6.7997 - val_accuracy: 0.9315\n",
      "Epoch 3/10\n",
      "469/469 [==============================] - 39s 84ms/step - loss: 0.3002 - accuracy: 0.9098 - val_loss: 4.5435 - val_accuracy: 0.9507\n",
      "Epoch 4/10\n",
      "469/469 [==============================] - 40s 84ms/step - loss: 0.2417 - accuracy: 0.9264 - val_loss: 5.0317 - val_accuracy: 0.9514\n",
      "Epoch 5/10\n",
      "469/469 [==============================] - 39s 84ms/step - loss: 0.1992 - accuracy: 0.9408 - val_loss: 5.5096 - val_accuracy: 0.9477\n",
      "Epoch 6/10\n",
      "469/469 [==============================] - 40s 84ms/step - loss: 0.1707 - accuracy: 0.9488 - val_loss: 11.1621 - val_accuracy: 0.9180\n",
      "Epoch 7/10\n",
      "469/469 [==============================] - 40s 85ms/step - loss: 0.1499 - accuracy: 0.9545 - val_loss: 9.9223 - val_accuracy: 0.9334\n",
      "Epoch 8/10\n",
      "469/469 [==============================] - 40s 85ms/step - loss: 0.1365 - accuracy: 0.9576 - val_loss: 12.6938 - val_accuracy: 0.9240\n",
      "Epoch 9/10\n",
      "469/469 [==============================] - 39s 84ms/step - loss: 0.1232 - accuracy: 0.9629 - val_loss: 14.3292 - val_accuracy: 0.9215\n",
      "Epoch 10/10\n",
      "469/469 [==============================] - 40s 86ms/step - loss: 0.1142 - accuracy: 0.9647 - val_loss: 15.3445 - val_accuracy: 0.9243\n",
      "Test loss: 15.344481468200684\n",
      "Test accuracy: 0.9243000149726868\n"
     ]
    }
   ],
   "source": [
    "batch_size = 128\n",
    "epochs = 10\n",
    "\n",
    "model.fit(x_train, y_train,\n",
    "          batch_size=batch_size,\n",
    "          epochs=epochs,\n",
    "          verbose=1,\n",
    "          validation_data=(x_test, y_test))\n",
    "score = model.evaluate(x_test, y_test, verbose=0)\n",
    "print('Test loss:', score[0])\n",
    "print('Test accuracy:', score[1])\n",
    "\n",
    "model.save(\"test_model.h5\")"
   ]
  },
  {
   "cell_type": "code",
   "execution_count": 112,
   "metadata": {},
   "outputs": [],
   "source": [
    "model1 = keras.models.load_model('test_model.h5')"
   ]
  },
  {
   "cell_type": "code",
   "execution_count": 95,
   "metadata": {},
   "outputs": [],
   "source": [
    "import imageio"
   ]
  },
  {
   "cell_type": "code",
   "execution_count": 97,
   "metadata": {},
   "outputs": [
    {
     "name": "stderr",
     "output_type": "stream",
     "text": [
      "C:\\Users\\parra\\AppData\\Local\\Temp\\ipykernel_9416\\3012896408.py:1: DeprecationWarning: Starting with ImageIO v3 the behavior of this function will switch to that of iio.v3.imread. To keep the current behavior (and make this warning disappear) use `import imageio.v2 as imageio` or call `imageio.v2.imread` directly.\n",
      "  im = imageio.imread(\"2.png\")\n"
     ]
    }
   ],
   "source": [
    "im = imageio.imread(\"2.png\")\n",
    "gray = np.dot(im[...,:3], [0.299, 0.587, 0.114])\n",
    "gray = gray.reshape(1, 28, 28, 1)\n",
    "gray /= 255"
   ]
  },
  {
   "cell_type": "code",
   "execution_count": 98,
   "metadata": {},
   "outputs": [
    {
     "name": "stdout",
     "output_type": "stream",
     "text": [
      "1/1 [==============================] - 0s 18ms/step\n",
      "2\n"
     ]
    }
   ],
   "source": [
    "prediction = model.predict(gray)\n",
    "print(prediction.argmax())"
   ]
  }
 ],
 "metadata": {
  "kernelspec": {
   "display_name": "Python 3.10.0 ('.dr-venv': venv)",
   "language": "python",
   "name": "python3"
  },
  "language_info": {
   "codemirror_mode": {
    "name": "ipython",
    "version": 3
   },
   "file_extension": ".py",
   "mimetype": "text/x-python",
   "name": "python",
   "nbconvert_exporter": "python",
   "pygments_lexer": "ipython3",
   "version": "3.10.0"
  },
  "orig_nbformat": 4,
  "vscode": {
   "interpreter": {
    "hash": "dad4b69c0e3e0b4af1961ebe45d2ca8d6f10b6118d0845a53e4e3216c649bb29"
   }
  }
 },
 "nbformat": 4,
 "nbformat_minor": 2
}
